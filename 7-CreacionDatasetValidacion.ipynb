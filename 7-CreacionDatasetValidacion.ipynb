{
 "cells": [
  {
   "cell_type": "code",
   "execution_count": 1,
   "metadata": {},
   "outputs": [],
   "source": [
    "import cv2\n",
    "import pandas as pd\n",
    "import numpy as np\n",
    "import matplotlib.pyplot as plt"
   ]
  },
  {
   "cell_type": "code",
   "execution_count": 3,
   "metadata": {},
   "outputs": [],
   "source": [
    "# Ruta general\n",
    "base_dir = 'Coleccion/'\n",
    "\n",
    "#Sub rutas Modelos\n",
    "m1 = base_dir + 'Disco_compresion__Carga_Lineal_3500N__100_frames__256_Resolucion/'\n",
    "m2 = base_dir + 'Anillo_compresion__Carga_Lineal_3200N__100_frames__256_Resolucion/'\n",
    "m3 = base_dir + 'Placa_Infinita__Carga_Lineal_7000N__100_frames__256_Resolucion/'\n",
    "m4 = base_dir + 'Viga_distribuida__Carga_Lineal_3000N__100_frames__256_Resolucion/'\n",
    "m5 = base_dir + 'Viga_puntual__Carga_Lineal_3000N__100_frames__256_Resolucion/'\n",
    "\n",
    "ims = 'Imagenes/'\n",
    "\n",
    "# Sub Rutas iluminacion + camara\n",
    "c = ['Concord_IMX250MYR_No_correccion/',\n",
    " 'Concord_IMX250MZR_No_correccion/',\n",
    " 'DL11_IMX250MYR_No_correccion/',\n",
    " 'DL11_IMX250MZR_No_correccion/',\n",
    " 'Fluorescente_IMX250MYR_No_correccion/',\n",
    " 'Fluorescente_IMX250MZR_No_correccion/',\n",
    " 'LCD_IMX250MYR_No_correccion/',\n",
    " 'LCD_IMX250MZR_No_correccion/',\n",
    " 'Philips_IMX250MYR_No_correccion/',\n",
    " 'Philips_IMX250MZR_No_correccion/',\n",
    " 'RXD2_IMX250MYR_No_correccion/',\n",
    " 'RXD2_IMX250MZR_No_correccion/',\n",
    " 'Sylvania_IMX250MYR_No_correccion/',\n",
    " 'Sylvania_IMX250MZR_No_correccion/',\n",
    " 'Toshiba_IMX250MYR_No_correccion/',\n",
    " 'Toshiba_IMX250MZR_No_correccion/',\n",
    " 'Willard_IMX250MYR_No_correccion/',\n",
    " 'Willard_IMX250MZR_No_correccion/']\n",
    "\n",
    "cs = ['3', '4', '10', '11', '17', '18', '24', '25', '31', '32', '38', '39', '45', '46', '52', '53', '59', '60'] \n",
    "# Sub Rutas imagenes originales\n",
    "i1 = 'Img_1/'\n",
    "i2 = 'Img_2/'\n",
    "i3 = 'Img_3/'\n",
    "i4 = 'Img_4/'\n",
    "\n",
    "# Almacenamiento de stacks\n",
    "folder = 'Stokes/'\n",
    "\n",
    "mm = [m1, m2, m3, m4, m5]\n",
    "ii = [i1, i2, i3, i4]"
   ]
  },
  {
   "cell_type": "code",
   "execution_count": 10,
   "metadata": {},
   "outputs": [],
   "source": [
    "dictionary = {}\n",
    "for m in mm:\n",
    "    for z in c:\n",
    "        for i in range(1, 501):\n",
    "            key = m + ims + z + folder + 'Stokes_M' + str(mm.index(m) + 1) + '_' + 'C' + str(cs[c.index(z)]) + '_' + str(i) + '.npy'\n",
    "            value = m + 'PNA' + str(mm.index(m) + 1) + '/' + 'PN_' + str(i) + '.txt'\n",
    "            dictionary[key] = value"
   ]
  },
  {
   "cell_type": "code",
   "execution_count": 11,
   "metadata": {},
   "outputs": [
    {
     "data": {
      "text/html": [
       "<div>\n",
       "<style scoped>\n",
       "    .dataframe tbody tr th:only-of-type {\n",
       "        vertical-align: middle;\n",
       "    }\n",
       "\n",
       "    .dataframe tbody tr th {\n",
       "        vertical-align: top;\n",
       "    }\n",
       "\n",
       "    .dataframe thead th {\n",
       "        text-align: right;\n",
       "    }\n",
       "</style>\n",
       "<table border=\"1\" class=\"dataframe\">\n",
       "  <thead>\n",
       "    <tr style=\"text-align: right;\">\n",
       "      <th></th>\n",
       "      <th>stackURL</th>\n",
       "      <th>phaseURL</th>\n",
       "    </tr>\n",
       "  </thead>\n",
       "  <tbody>\n",
       "    <tr>\n",
       "      <th>0</th>\n",
       "      <td>Coleccion/Disco_compresion__Carga_Lineal_3500N...</td>\n",
       "      <td>Coleccion/Disco_compresion__Carga_Lineal_3500N...</td>\n",
       "    </tr>\n",
       "    <tr>\n",
       "      <th>1</th>\n",
       "      <td>Coleccion/Disco_compresion__Carga_Lineal_3500N...</td>\n",
       "      <td>Coleccion/Disco_compresion__Carga_Lineal_3500N...</td>\n",
       "    </tr>\n",
       "    <tr>\n",
       "      <th>2</th>\n",
       "      <td>Coleccion/Disco_compresion__Carga_Lineal_3500N...</td>\n",
       "      <td>Coleccion/Disco_compresion__Carga_Lineal_3500N...</td>\n",
       "    </tr>\n",
       "    <tr>\n",
       "      <th>3</th>\n",
       "      <td>Coleccion/Disco_compresion__Carga_Lineal_3500N...</td>\n",
       "      <td>Coleccion/Disco_compresion__Carga_Lineal_3500N...</td>\n",
       "    </tr>\n",
       "    <tr>\n",
       "      <th>4</th>\n",
       "      <td>Coleccion/Disco_compresion__Carga_Lineal_3500N...</td>\n",
       "      <td>Coleccion/Disco_compresion__Carga_Lineal_3500N...</td>\n",
       "    </tr>\n",
       "  </tbody>\n",
       "</table>\n",
       "</div>"
      ],
      "text/plain": [
       "                                            stackURL  \\\n",
       "0  Coleccion/Disco_compresion__Carga_Lineal_3500N...   \n",
       "1  Coleccion/Disco_compresion__Carga_Lineal_3500N...   \n",
       "2  Coleccion/Disco_compresion__Carga_Lineal_3500N...   \n",
       "3  Coleccion/Disco_compresion__Carga_Lineal_3500N...   \n",
       "4  Coleccion/Disco_compresion__Carga_Lineal_3500N...   \n",
       "\n",
       "                                            phaseURL  \n",
       "0  Coleccion/Disco_compresion__Carga_Lineal_3500N...  \n",
       "1  Coleccion/Disco_compresion__Carga_Lineal_3500N...  \n",
       "2  Coleccion/Disco_compresion__Carga_Lineal_3500N...  \n",
       "3  Coleccion/Disco_compresion__Carga_Lineal_3500N...  \n",
       "4  Coleccion/Disco_compresion__Carga_Lineal_3500N...  "
      ]
     },
     "execution_count": 11,
     "metadata": {},
     "output_type": "execute_result"
    }
   ],
   "source": [
    "df = pd.DataFrame(list(dictionary.items()), columns=['stackURL', 'phaseURL'])\n",
    "df.head()"
   ]
  },
  {
   "cell_type": "code",
   "execution_count": 12,
   "metadata": {},
   "outputs": [
    {
     "data": {
      "text/plain": [
       "45000"
      ]
     },
     "execution_count": 12,
     "metadata": {},
     "output_type": "execute_result"
    }
   ],
   "source": [
    "len(df['stackURL'].unique())"
   ]
  },
  {
   "cell_type": "code",
   "execution_count": 13,
   "metadata": {},
   "outputs": [
    {
     "data": {
      "text/plain": [
       "2500"
      ]
     },
     "execution_count": 13,
     "metadata": {},
     "output_type": "execute_result"
    }
   ],
   "source": [
    "len(df['phaseURL'].unique())"
   ]
  },
  {
   "cell_type": "code",
   "execution_count": 14,
   "metadata": {},
   "outputs": [
    {
     "data": {
      "text/plain": [
       "'Coleccion/Disco_compresion__Carga_Lineal_3500N__100_frames__256_Resolucion/Imagenes/DL11_IMX250MYR_No_correccion/Stokes/Stokes_M1_C10_1.npy'"
      ]
     },
     "execution_count": 14,
     "metadata": {},
     "output_type": "execute_result"
    }
   ],
   "source": [
    "df['stackURL'][1000]"
   ]
  },
  {
   "cell_type": "code",
   "execution_count": 15,
   "metadata": {},
   "outputs": [
    {
     "data": {
      "text/plain": [
       "'Coleccion/Disco_compresion__Carga_Lineal_3500N__100_frames__256_Resolucion/PNA1/PN_1.txt'"
      ]
     },
     "execution_count": 15,
     "metadata": {},
     "output_type": "execute_result"
    }
   ],
   "source": [
    "df['phaseURL'][1000]"
   ]
  },
  {
   "cell_type": "markdown",
   "metadata": {},
   "source": [
    "## **Creación de datasets de imágenes de entrada y salida.**"
   ]
  },
  {
   "cell_type": "code",
   "execution_count": 16,
   "metadata": {},
   "outputs": [],
   "source": [
    "from sklearn.model_selection import train_test_split\n",
    "\n",
    "X_train, X_test, y_train, y_test = train_test_split(df['stackURL'], df['phaseURL'],test_size=0.2)"
   ]
  },
  {
   "cell_type": "markdown",
   "metadata": {},
   "source": [
    "**Construcción arrays de ENTRADA (S) de entrenamiento y validación con los valores de los 4-stack, correspondientes a los 4 estados de polarización de las imágenes:**"
   ]
  },
  {
   "cell_type": "code",
   "execution_count": 17,
   "metadata": {},
   "outputs": [
    {
     "data": {
      "text/plain": [
       "((36000,), (9000,), (36000,), (9000,))"
      ]
     },
     "execution_count": 17,
     "metadata": {},
     "output_type": "execute_result"
    }
   ],
   "source": [
    "X_train.shape, X_test.shape, y_train.shape, y_test.shape"
   ]
  },
  {
   "cell_type": "code",
   "execution_count": 11,
   "metadata": {},
   "outputs": [
    {
     "name": "stdout",
     "output_type": "stream",
     "text": [
      "S_Train data: 0/7200\n",
      "S_Train data: 1000/7200\n",
      "S_Train data: 2000/7200\n",
      "S_Train data: 3000/7200\n",
      "S_Train data: 4000/7200\n",
      "S_Train data: 5000/7200\n",
      "S_Train data: 6000/7200\n",
      "S_Train data: 7000/7200\n",
      "S_Test data: 0/1800\n",
      "S_Test data: 1000/1800\n",
      "P_Train data: 0/7200\n",
      "P_Train data: 1000/7200\n",
      "P_Train data: 2000/7200\n",
      "P_Train data: 3000/7200\n",
      "P_Train data: 4000/7200\n",
      "P_Train data: 5000/7200\n",
      "P_Train data: 6000/7200\n",
      "P_Train data: 7000/7200\n",
      "P_Test data: 0/1800\n",
      "P_Test data: 1000/1800\n"
     ]
    }
   ],
   "source": [
    "##################### second part: create the h5py object #####################\n",
    "import h5py\n",
    "\n",
    "S_train_shape = (len(X_train), 256, 256, 3)\n",
    "S_test_shape = (len(X_test), 256, 256, 3)\n",
    "P_train_shape = (len(y_train), 256, 256)\n",
    "P_test_shape = (len(y_test), 256, 256)\n",
    "\n",
    "\n",
    "# open a hdf5 file and create earrays \n",
    "f = h5py.File(\"DatasetsStokes.hdf5\", mode='w')\n",
    "\n",
    "# PIL.Image: the pixels range is 0-255,dtype is uint.\n",
    "# matplotlib: the pixels range is 0-1,dtype is float.\n",
    "# the \".create_dataset\" object is like a dictionary, the \"train_labels\" is the key.\n",
    "f.create_dataset(\"S_train\", S_train_shape)\n",
    "f.create_dataset(\"S_test\", S_test_shape)  \n",
    "f.create_dataset(\"P_train\", P_train_shape)\n",
    "f.create_dataset(\"P_test\", P_test_shape)\n",
    "\n",
    "######################## third part: write the images #########################\n",
    "import cv2\n",
    "\n",
    "j = 0\n",
    "# loop over S_train paths\n",
    "for i in X_train.values:\n",
    "    img = np.load(i)\n",
    "    #img = cv2.resize(img, (128, 128), interpolation=cv2.INTER_AREA)# resize to (128,128)\n",
    "    f[\"S_train\"][j, ...] = img\n",
    "    \n",
    "    if j % 1000 == 0:\n",
    "        print ('S_Train data: {}/{}'.format(j, len(X_train)))\n",
    "    \n",
    "    j += 1\n",
    "        \n",
    "j = 0\n",
    "# loop over S_test paths\n",
    "for i in X_test:\n",
    "\n",
    "    img = np.load(i)\n",
    "    #img = cv2.resize(img, (128, 128), interpolation=cv2.INTER_AREA)# resize to (128,128)\n",
    "    f[\"S_test\"][j, ...] = img \n",
    "    \n",
    "    if j % 1000 == 0:\n",
    "        print ('S_Test data: {}/{}'.format(j, len(X_test)))\n",
    "    \n",
    "    j +=1\n",
    "\n",
    "j = 0\n",
    "# loop over P_train paths\n",
    "for i in y_train:\n",
    "  \n",
    "    img = np.loadtxt(i)\n",
    "    #img = cv2.resize(img, (128, 128), interpolation=cv2.INTER_AREA)# resize to (128,128)\n",
    "    f[\"P_train\"][j, ...] = img \n",
    "    \n",
    "    if j % 1000 == 0:\n",
    "        print ('P_Train data: {}/{}'.format(j, len(y_train)))\n",
    "    \n",
    "    j += 1\n",
    "\n",
    "j = 0\n",
    "# loop over P_test paths\n",
    "for i in y_test:\n",
    "\n",
    "    img = np.loadtxt(i)\n",
    "    #img = cv2.resize(img, (128, 128), interpolation=cv2.INTER_AREA)# resize to (128,128)\n",
    "    f[\"P_test\"][j, ...] = img \n",
    "    \n",
    "    if j % 1000 == 0:\n",
    "        print ('P_Test data: {}/{}'.format(j, len(y_test)))\n",
    "    \n",
    "    j += 1\n",
    "        \n",
    "f.close()"
   ]
  },
  {
   "cell_type": "code",
   "execution_count": null,
   "metadata": {},
   "outputs": [],
   "source": [
    "ls"
   ]
  },
  {
   "cell_type": "code",
   "execution_count": null,
   "metadata": {},
   "outputs": [],
   "source": [
    "for i in X_train.values:\n",
    "    print(i)"
   ]
  },
  {
   "cell_type": "code",
   "execution_count": null,
   "metadata": {},
   "outputs": [],
   "source": [
    "res = np.load(X_train[2])\n",
    "img = cv2.resize(res, (128, 128), interpolation=cv2.INTER_AREA)"
   ]
  },
  {
   "cell_type": "code",
   "execution_count": null,
   "metadata": {},
   "outputs": [],
   "source": [
    "plt.imshow(img, cmap='gray')"
   ]
  },
  {
   "cell_type": "code",
   "execution_count": null,
   "metadata": {},
   "outputs": [],
   "source": [
    "img.shape"
   ]
  },
  {
   "cell_type": "code",
   "execution_count": null,
   "metadata": {},
   "outputs": [],
   "source": [
    "X_train[0]"
   ]
  },
  {
   "cell_type": "code",
   "execution_count": null,
   "metadata": {},
   "outputs": [],
   "source": [
    "f.close()"
   ]
  },
  {
   "cell_type": "code",
   "execution_count": null,
   "metadata": {},
   "outputs": [],
   "source": [
    "import h5py\n",
    "f = h5py.File(\"ensayo5.hdf5\", mode='w')\n",
    "f.create_dataset(\"S_train\", (1, 128, 128, 4))\n"
   ]
  },
  {
   "cell_type": "code",
   "execution_count": null,
   "metadata": {},
   "outputs": [],
   "source": [
    "stack = np.load(X_train[67317])\n",
    "img = cv2.resize(stack, (128, 128), interpolation=cv2.INTER_AREA)\n",
    "f[\"S_train\"][0, ...] = img"
   ]
  },
  {
   "cell_type": "code",
   "execution_count": null,
   "metadata": {},
   "outputs": [],
   "source": [
    "hf = h5py.File('ensayo5.hdf5', 'r')"
   ]
  },
  {
   "cell_type": "code",
   "execution_count": null,
   "metadata": {},
   "outputs": [],
   "source": [
    "n1 = hf.get('S_train')\n",
    "n1"
   ]
  },
  {
   "cell_type": "code",
   "execution_count": null,
   "metadata": {},
   "outputs": [],
   "source": [
    "n1 = np.array(n1)\n",
    "n1.shape"
   ]
  },
  {
   "cell_type": "code",
   "execution_count": null,
   "metadata": {},
   "outputs": [],
   "source": [
    "n1[0,:,:,:].shape"
   ]
  },
  {
   "cell_type": "code",
   "execution_count": null,
   "metadata": {},
   "outputs": [],
   "source": [
    "import numpy as np\n",
    "\n",
    "S_train = []\n",
    "i= 1\n",
    "\n",
    "for path in X_train.values:\n",
    "    stack = np.load(path)\n",
    "    S_train.append(stack)\n",
    "    print('\\r' + str(i), end='')\n",
    "    i += 1\n",
    "    \n",
    "S_train = np.array(S_train)"
   ]
  },
  {
   "cell_type": "code",
   "execution_count": null,
   "metadata": {},
   "outputs": [],
   "source": [
    "S_train.shape"
   ]
  },
  {
   "cell_type": "code",
   "execution_count": null,
   "metadata": {},
   "outputs": [],
   "source": [
    "np.save('/Coleccion/NumpyArrays/S_train', S_train)"
   ]
  },
  {
   "cell_type": "markdown",
   "metadata": {},
   "source": [
    "## Validación"
   ]
  },
  {
   "cell_type": "code",
   "execution_count": null,
   "metadata": {},
   "outputs": [],
   "source": [
    "S_test = []\n",
    "i= 1\n",
    "\n",
    "for path in X_test.values:\n",
    "    stack = np.load(path)\n",
    "    S_test.append(stack)\n",
    "    print('\\r' + str(i), end='')\n",
    "    i += 1\n",
    "    \n",
    "S_test = np.array(S_test)"
   ]
  },
  {
   "cell_type": "code",
   "execution_count": null,
   "metadata": {},
   "outputs": [],
   "source": [
    "stack = np.loadtxt(y_train.values[0])"
   ]
  },
  {
   "cell_type": "code",
   "execution_count": null,
   "metadata": {},
   "outputs": [],
   "source": [
    "stack.shape"
   ]
  },
  {
   "cell_type": "code",
   "execution_count": null,
   "metadata": {},
   "outputs": [],
   "source": [
    "plt.imshow(stack, cmap='gray')"
   ]
  },
  {
   "cell_type": "code",
   "execution_count": null,
   "metadata": {},
   "outputs": [],
   "source": [
    "stack.shape"
   ]
  },
  {
   "cell_type": "code",
   "execution_count": null,
   "metadata": {},
   "outputs": [],
   "source": [
    "S_test = []\n",
    "S_test.append(stack)\n",
    "S_test = np.array(S_test)"
   ]
  },
  {
   "cell_type": "code",
   "execution_count": null,
   "metadata": {},
   "outputs": [],
   "source": [
    "np.savetxt('S_test.txt', S_test[0,:,:,0])"
   ]
  },
  {
   "cell_type": "code",
   "execution_count": null,
   "metadata": {},
   "outputs": [],
   "source": [
    "S_test.shape"
   ]
  },
  {
   "cell_type": "code",
   "execution_count": null,
   "metadata": {},
   "outputs": [],
   "source": [
    "np.save('S_test', S_test)"
   ]
  },
  {
   "cell_type": "code",
   "execution_count": null,
   "metadata": {},
   "outputs": [],
   "source": [
    "a1 = np.loadtxt('S_test.txt')\n",
    "a1.shape"
   ]
  },
  {
   "cell_type": "code",
   "execution_count": null,
   "metadata": {},
   "outputs": [],
   "source": [
    "Matrix = np.load(X_train.values[1])\n",
    "Matrix.shape"
   ]
  },
  {
   "cell_type": "code",
   "execution_count": null,
   "metadata": {},
   "outputs": [],
   "source": [
    "plt.imshow(Matrix)"
   ]
  },
  {
   "cell_type": "code",
   "execution_count": null,
   "metadata": {},
   "outputs": [],
   "source": [
    "f = open('S_test.txt', 'a')\n",
    "f.write(str(S_test[0,:,:,1]))\n",
    "f.close()"
   ]
  },
  {
   "cell_type": "code",
   "execution_count": null,
   "metadata": {},
   "outputs": [],
   "source": [
    "a2 = np.load('S_test.npy')\n",
    "a2.shape"
   ]
  },
  {
   "cell_type": "code",
   "execution_count": null,
   "metadata": {},
   "outputs": [],
   "source": [
    "plt.imshow(a2[0,:,:,:])"
   ]
  },
  {
   "cell_type": "code",
   "execution_count": null,
   "metadata": {},
   "outputs": [],
   "source": [
    "from pathlib import Path"
   ]
  },
  {
   "cell_type": "code",
   "execution_count": null,
   "metadata": {},
   "outputs": [],
   "source": [
    "p = Path('S_test.npy')\n",
    "\n",
    "with p.open('ab') as f:\n",
    "    np.save(f, Matrix)"
   ]
  },
  {
   "cell_type": "code",
   "execution_count": null,
   "metadata": {},
   "outputs": [],
   "source": []
  }
 ],
 "metadata": {
  "kernelspec": {
   "display_name": "Python 3",
   "language": "python",
   "name": "python3"
  },
  "language_info": {
   "codemirror_mode": {
    "name": "ipython",
    "version": 3
   },
   "file_extension": ".py",
   "mimetype": "text/x-python",
   "name": "python",
   "nbconvert_exporter": "python",
   "pygments_lexer": "ipython3",
   "version": "3.6.5"
  }
 },
 "nbformat": 4,
 "nbformat_minor": 2
}
